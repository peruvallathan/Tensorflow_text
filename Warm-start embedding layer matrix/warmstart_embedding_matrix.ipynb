{
 "cells": [
  {
   "cell_type": "code",
   "execution_count": 1,
   "metadata": {
    "execution": {
     "iopub.execute_input": "2023-07-28T11:11:10.981110Z",
     "iopub.status.busy": "2023-07-28T11:11:10.980540Z",
     "iopub.status.idle": "2023-07-28T11:11:10.984546Z",
     "shell.execute_reply": "2023-07-28T11:11:10.983891Z"
    },
    "id": "YS3NA-i6nAFC"
   },
   "outputs": [],
   "source": [
    "##### Copyright 2022 The TensorFlow Authors.\n",
    "\n",
    "\n",
    "# @title Licensed under the Apache License, Version 2.0 (the \"License\");\n",
    "# you may not use this file except in compliance with the License.\n",
    "# You may obtain a copy of the License at\n",
    "#\n",
    "# https://www.apache.org/licenses/LICENSE-2.0\n",
    "#\n",
    "# Unless required by applicable law or agreed to in writing, software\n",
    "# distributed under the License is distributed on an \"AS IS\" BASIS,\n",
    "# WITHOUT WARRANTIES OR CONDITIONS OF ANY KIND, either express or implied.\n",
    "# See the License for the specific language governing permissions and\n",
    "# limitations under the License."
   ]
  },
  {
   "cell_type": "markdown",
   "metadata": {
    "id": "7SN5USFEIIK3"
   },
   "source": [
    "# Warm-start embedding layer matrix"
   ]
  },
  {
   "cell_type": "markdown",
   "metadata": {
    "id": "Aojnnc7sXrab"
   },
   "source": [
    "<table class=\"tfo-notebook-buttons\" align=\"left\">\n",
    "  <td>\n",
    "    <a target=\"_blank\" href=\"https://www.tensorflow.org/text/tutorials/warmstart_embedding_matrix\"><img src=\"https://www.tensorflow.org/images/tf_logo_32px.png\" />View on TensorFlow.org</a>\n",
    "  </td>\n",
    "  <td>\n",
    "    <a target=\"_blank\" href=\"https://colab.research.google.com/github/tensorflow/text/blob/master/docs/tutorials/warmstart_embedding_matrix.ipynb\"><img src=\"https://www.tensorflow.org/images/colab_logo_32px.png\" />Run in Google Colab</a>\n",
    "  </td>\n",
    "  <td>\n",
    "    <a target=\"_blank\" href=\"https://github.com/tensorflow/text/blob/master/docs/tutorials/warmstart_embedding_matrix.ipynb\"><img src=\"https://www.tensorflow.org/images/GitHub-Mark-32px.png\" />View on GitHub</a>\n",
    "  </td>\n",
    "  <td>\n",
    "    <a href=\"https://storage.googleapis.com/tensorflow_docs/text/docs/tutorials/warmstart_embedding_matrix.ipynb\"><img src=\"https://www.tensorflow.org/images/download_logo_32px.png\" />Download notebook</a>\n",
    "  </td>\n",
    "</table>"
   ]
  },
  {
   "cell_type": "markdown",
   "metadata": {
    "id": "Q6mJg1g3apaz"
   },
   "source": [
    "This tutorial shows how to \"warm-start\" training using the [`tf.keras.utils.warmstart_embedding_matrix`](https://www.tensorflow.org/api_docs/python/tf/keras/utils/warmstart_embedding_matrix) API for text sentiment classification when changing vocabulary.\n",
    "\n",
    "You will begin by training a simple Keras model with a base vocabulary, and then, after updating the vocabulary, continue training the model. This is referred to as \"warm-start\" training, for which you'll need to remap the text-embedding matrix for the new vocabulary."
   ]
  },
  {
   "cell_type": "markdown",
   "metadata": {
    "id": "TZhifmcDwJTf"
   },
   "source": [
    "## Embedding matrix\n",
    "\n",
    "Embeddings provide a way to use an efficient, dense representation in which similar vocabulary tokens have a similar encoding. They are trainable parameters (weights learned by the model during training, in the same way a model learns weights for a dense layer). It is common to have embeddings that are 8-dimensional for small datasets, and up to 1024-dimensions when working with large datasets. A higher dimensional embedding can capture fine-grained relationships between words, but can take more data to learn."
   ]
  },
  {
   "cell_type": "markdown",
   "metadata": {
    "id": "2voNac7BwJ-g"
   },
   "source": [
    "### Vocabulary\n",
    "\n",
    "The set of unique words is referred to as the vocabulary. To build a text model you need to choose a fixed vocabulary. Typically you build the vocabulary from the most common words in a dataset. The vocabulary allows us to represent each piece of text by a sequence of ID's that you can lookup in the embedding matrix. Vocabulary allows us to represent each piece of text by the specific words that appear in it."
   ]
  },
  {
   "cell_type": "markdown",
   "metadata": {
    "id": "JuBkjGwtwKiv"
   },
   "source": [
    "### Why warm-start an embedding matrix?\n",
    "\n",
    "A model is trained with a set of embeddings that represents a given vocabulary. If the model needs to be updated or improved you can train to convergence significantly faster by reusing weights from a previous run. Using the embedding matrix from a previous run is more difficult. The problem is that any change to the vocabulary invalidates the word to id mapping.\n",
    "\n",
    "The `tf.keras.utils.warmstart_embedding_matrix` solves this problem by creating an embedding matrix for a new vocabulary from an embedding matrix from a base vocabulary. Where a word exists in both vocabularies the base embedding vector is copied into the correct location in the new embedding matrix. This allows you to warm-start training after any change in the size or order of the vocabulary."
   ]
  },
  {
   "cell_type": "markdown",
   "metadata": {
    "id": "SZUQErGewZxE"
   },
   "source": [
    "## Setup"
   ]
  },
  {
   "cell_type": "code",
   "execution_count": 2,
   "metadata": {
    "execution": {
     "iopub.execute_input": "2023-07-28T11:11:10.988113Z",
     "iopub.status.busy": "2023-07-28T11:11:10.987873Z",
     "iopub.status.idle": "2023-07-28T11:11:13.202627Z",
     "shell.execute_reply": "2023-07-28T11:11:13.201556Z"
    },
    "id": "BfPukisbG_Yu"
   },
   "outputs": [
    {
     "name": "stdout",
     "output_type": "stream",
     "text": [
      "Requirement already satisfied: tensorflow>2.10 in /tmpfs/src/tf_docs_env/lib/python3.9/site-packages (2.13.0)\n",
      "Requirement already satisfied: absl-py>=1.0.0 in /tmpfs/src/tf_docs_env/lib/python3.9/site-packages (from tensorflow>2.10) (1.4.0)\n",
      "Requirement already satisfied: astunparse>=1.6.0 in /tmpfs/src/tf_docs_env/lib/python3.9/site-packages (from tensorflow>2.10) (1.6.3)\n",
      "Requirement already satisfied: flatbuffers>=23.1.21 in /tmpfs/src/tf_docs_env/lib/python3.9/site-packages (from tensorflow>2.10) (23.5.26)\n",
      "Requirement already satisfied: gast<=0.4.0,>=0.2.1 in /tmpfs/src/tf_docs_env/lib/python3.9/site-packages (from tensorflow>2.10) (0.4.0)\n",
      "Requirement already satisfied: google-pasta>=0.1.1 in /tmpfs/src/tf_docs_env/lib/python3.9/site-packages (from tensorflow>2.10) (0.2.0)\n",
      "Requirement already satisfied: grpcio<2.0,>=1.24.3 in /tmpfs/src/tf_docs_env/lib/python3.9/site-packages (from tensorflow>2.10) (1.57.0rc1)\n",
      "Requirement already satisfied: h5py>=2.9.0 in /tmpfs/src/tf_docs_env/lib/python3.9/site-packages (from tensorflow>2.10) (3.9.0)\n",
      "Requirement already satisfied: keras<2.14,>=2.13.1 in /tmpfs/src/tf_docs_env/lib/python3.9/site-packages (from tensorflow>2.10) (2.13.1)\n",
      "Requirement already satisfied: libclang>=13.0.0 in /tmpfs/src/tf_docs_env/lib/python3.9/site-packages (from tensorflow>2.10) (16.0.6)\n",
      "Requirement already satisfied: numpy<=1.24.3,>=1.22 in /tmpfs/src/tf_docs_env/lib/python3.9/site-packages (from tensorflow>2.10) (1.24.3)\n",
      "Requirement already satisfied: opt-einsum>=2.3.2 in /tmpfs/src/tf_docs_env/lib/python3.9/site-packages (from tensorflow>2.10) (3.3.0)\n",
      "Requirement already satisfied: packaging in /tmpfs/src/tf_docs_env/lib/python3.9/site-packages (from tensorflow>2.10) (23.1)\n",
      "Requirement already satisfied: protobuf!=4.21.0,!=4.21.1,!=4.21.2,!=4.21.3,!=4.21.4,!=4.21.5,<5.0.0dev,>=3.20.3 in /tmpfs/src/tf_docs_env/lib/python3.9/site-packages (from tensorflow>2.10) (4.24.0rc2)\n",
      "Requirement already satisfied: setuptools in /tmpfs/src/tf_docs_env/lib/python3.9/site-packages (from tensorflow>2.10) (68.0.0)\n",
      "Requirement already satisfied: six>=1.12.0 in /tmpfs/src/tf_docs_env/lib/python3.9/site-packages (from tensorflow>2.10) (1.16.0)\n",
      "Requirement already satisfied: tensorboard<2.14,>=2.13 in /tmpfs/src/tf_docs_env/lib/python3.9/site-packages (from tensorflow>2.10) (2.13.0)\n",
      "Requirement already satisfied: tensorflow-estimator<2.14,>=2.13.0 in /tmpfs/src/tf_docs_env/lib/python3.9/site-packages (from tensorflow>2.10) (2.13.0)\n",
      "Requirement already satisfied: termcolor>=1.1.0 in /tmpfs/src/tf_docs_env/lib/python3.9/site-packages (from tensorflow>2.10) (2.3.0)\n",
      "Requirement already satisfied: typing-extensions<4.6.0,>=3.6.6 in /tmpfs/src/tf_docs_env/lib/python3.9/site-packages (from tensorflow>2.10) (4.5.0)\n",
      "Requirement already satisfied: wrapt>=1.11.0 in /tmpfs/src/tf_docs_env/lib/python3.9/site-packages (from tensorflow>2.10) (1.15.0)\n",
      "Requirement already satisfied: tensorflow-io-gcs-filesystem>=0.23.1 in /tmpfs/src/tf_docs_env/lib/python3.9/site-packages (from tensorflow>2.10) (0.32.0)\n",
      "Requirement already satisfied: wheel<1.0,>=0.23.0 in /tmpfs/src/tf_docs_env/lib/python3.9/site-packages (from astunparse>=1.6.0->tensorflow>2.10) (0.40.0)\n",
      "Requirement already satisfied: google-auth<3,>=1.6.3 in /tmpfs/src/tf_docs_env/lib/python3.9/site-packages (from tensorboard<2.14,>=2.13->tensorflow>2.10) (2.22.0)\n",
      "Requirement already satisfied: google-auth-oauthlib<1.1,>=0.5 in /tmpfs/src/tf_docs_env/lib/python3.9/site-packages (from tensorboard<2.14,>=2.13->tensorflow>2.10) (1.0.0)\n",
      "Requirement already satisfied: markdown>=2.6.8 in /tmpfs/src/tf_docs_env/lib/python3.9/site-packages (from tensorboard<2.14,>=2.13->tensorflow>2.10) (3.4.4)\n",
      "Requirement already satisfied: requests<3,>=2.21.0 in /tmpfs/src/tf_docs_env/lib/python3.9/site-packages (from tensorboard<2.14,>=2.13->tensorflow>2.10) (2.31.0)\n",
      "Requirement already satisfied: tensorboard-data-server<0.8.0,>=0.7.0 in /tmpfs/src/tf_docs_env/lib/python3.9/site-packages (from tensorboard<2.14,>=2.13->tensorflow>2.10) (0.7.1)\n",
      "Requirement already satisfied: werkzeug>=1.0.1 in /tmpfs/src/tf_docs_env/lib/python3.9/site-packages (from tensorboard<2.14,>=2.13->tensorflow>2.10) (2.3.6)\n",
      "Requirement already satisfied: cachetools<6.0,>=2.0.0 in /tmpfs/src/tf_docs_env/lib/python3.9/site-packages (from google-auth<3,>=1.6.3->tensorboard<2.14,>=2.13->tensorflow>2.10) (5.3.1)\n",
      "Requirement already satisfied: pyasn1-modules>=0.2.1 in /tmpfs/src/tf_docs_env/lib/python3.9/site-packages (from google-auth<3,>=1.6.3->tensorboard<2.14,>=2.13->tensorflow>2.10) (0.3.0)\n",
      "Requirement already satisfied: rsa<5,>=3.1.4 in /tmpfs/src/tf_docs_env/lib/python3.9/site-packages (from google-auth<3,>=1.6.3->tensorboard<2.14,>=2.13->tensorflow>2.10) (4.9)\n",
      "Requirement already satisfied: urllib3<2.0 in /tmpfs/src/tf_docs_env/lib/python3.9/site-packages (from google-auth<3,>=1.6.3->tensorboard<2.14,>=2.13->tensorflow>2.10) (1.26.16)\n",
      "Requirement already satisfied: requests-oauthlib>=0.7.0 in /tmpfs/src/tf_docs_env/lib/python3.9/site-packages (from google-auth-oauthlib<1.1,>=0.5->tensorboard<2.14,>=2.13->tensorflow>2.10) (1.3.1)\n",
      "Requirement already satisfied: importlib-metadata>=4.4 in /tmpfs/src/tf_docs_env/lib/python3.9/site-packages (from markdown>=2.6.8->tensorboard<2.14,>=2.13->tensorflow>2.10) (6.8.0)\n",
      "Requirement already satisfied: charset-normalizer<4,>=2 in /tmpfs/src/tf_docs_env/lib/python3.9/site-packages (from requests<3,>=2.21.0->tensorboard<2.14,>=2.13->tensorflow>2.10) (3.2.0)\n",
      "Requirement already satisfied: idna<4,>=2.5 in /tmpfs/src/tf_docs_env/lib/python3.9/site-packages (from requests<3,>=2.21.0->tensorboard<2.14,>=2.13->tensorflow>2.10) (3.4)\n",
      "Requirement already satisfied: certifi>=2017.4.17 in /tmpfs/src/tf_docs_env/lib/python3.9/site-packages (from requests<3,>=2.21.0->tensorboard<2.14,>=2.13->tensorflow>2.10) (2023.7.22)\n",
      "Requirement already satisfied: MarkupSafe>=2.1.1 in /tmpfs/src/tf_docs_env/lib/python3.9/site-packages (from werkzeug>=1.0.1->tensorboard<2.14,>=2.13->tensorflow>2.10) (2.1.3)\n",
      "Requirement already satisfied: zipp>=0.5 in /tmpfs/src/tf_docs_env/lib/python3.9/site-packages (from importlib-metadata>=4.4->markdown>=2.6.8->tensorboard<2.14,>=2.13->tensorflow>2.10) (3.16.2)\n",
      "Requirement already satisfied: pyasn1<0.6.0,>=0.4.6 in /tmpfs/src/tf_docs_env/lib/python3.9/site-packages (from pyasn1-modules>=0.2.1->google-auth<3,>=1.6.3->tensorboard<2.14,>=2.13->tensorflow>2.10) (0.5.0)\n",
      "Requirement already satisfied: oauthlib>=3.0.0 in /tmpfs/src/tf_docs_env/lib/python3.9/site-packages (from requests-oauthlib>=0.7.0->google-auth-oauthlib<1.1,>=0.5->tensorboard<2.14,>=2.13->tensorflow>2.10) (3.2.2)\n"
     ]
    }
   ],
   "source": [
    "!pip install --pre -U \"tensorflow>2.10\"  # Requires 2.11"
   ]
  },
  {
   "cell_type": "code",
   "execution_count": 3,
   "metadata": {
    "execution": {
     "iopub.execute_input": "2023-07-28T11:11:13.207510Z",
     "iopub.status.busy": "2023-07-28T11:11:13.206727Z",
     "iopub.status.idle": "2023-07-28T11:11:15.460299Z",
     "shell.execute_reply": "2023-07-28T11:11:15.459577Z"
    },
    "id": "RutaI-Tpev3T"
   },
   "outputs": [],
   "source": [
    "import io\n",
    "import numpy as np\n",
    "import os\n",
    "import re\n",
    "import shutil\n",
    "import string\n",
    "import tensorflow as tf\n",
    "\n",
    "from tensorflow.keras import Model\n",
    "from tensorflow.keras.layers import Dense, Embedding, GlobalAveragePooling1D\n",
    "from tensorflow.keras.layers import TextVectorization"
   ]
  },
  {
   "cell_type": "markdown",
   "metadata": {
    "id": "SBFctV8-JZOc"
   },
   "source": [
    "### Load the dataset\n",
    "The tutorial uses the [Large Movie Review Dataset](http://ai.stanford.edu/~amaas/data/sentiment/). You will train a sentiment classifier model on this dataset and in the process learn embeddings from scratch. Refer to the [Loading text tutorial](https://www.tensorflow.org/tutorials/load_data/text) to learn more.  \n",
    "\n",
    "Download the dataset using Keras file utility and review the directories."
   ]
  },
  {
   "cell_type": "code",
   "execution_count": 4,
   "metadata": {
    "execution": {
     "iopub.execute_input": "2023-07-28T11:11:15.464292Z",
     "iopub.status.busy": "2023-07-28T11:11:15.463902Z",
     "iopub.status.idle": "2023-07-28T11:11:37.992297Z",
     "shell.execute_reply": "2023-07-28T11:11:37.991627Z"
    },
    "id": "aPO4_UmfF0KH"
   },
   "outputs": [
    {
     "name": "stdout",
     "output_type": "stream",
     "text": [
      "Downloading data from https://ai.stanford.edu/~amaas/data/sentiment/aclImdb_v1.tar.gz\n",
      "84125825/84125825 [==============================] - 3s 0us/step\n"
     ]
    },
    {
     "data": {
      "text/plain": [
       "['imdb.vocab', 'test', 'README', 'train', 'imdbEr.txt']"
      ]
     },
     "execution_count": 4,
     "metadata": {},
     "output_type": "execute_result"
    }
   ],
   "source": [
    "url = \"https://ai.stanford.edu/~amaas/data/sentiment/aclImdb_v1.tar.gz\"\n",
    "\n",
    "dataset = tf.keras.utils.get_file(\n",
    "    \"aclImdb_v1.tar.gz\", url, untar=True, cache_dir=\".\", cache_subdir=\"\"\n",
    ")\n",
    "\n",
    "dataset_dir = os.path.join(os.path.dirname(dataset), \"aclImdb\")\n",
    "os.listdir(dataset_dir)"
   ]
  },
  {
   "cell_type": "markdown",
   "metadata": {
    "id": "eY6yROZNKvbd"
   },
   "source": [
    "The `train/` directory has `pos` and `neg` folders with movie reviews labeled as positive and negative respectively. You will use reviews from `pos` and `neg` folders to train a binary classification model."
   ]
  },
  {
   "cell_type": "code",
   "execution_count": 5,
   "metadata": {
    "execution": {
     "iopub.execute_input": "2023-07-28T11:11:37.995972Z",
     "iopub.status.busy": "2023-07-28T11:11:37.995725Z",
     "iopub.status.idle": "2023-07-28T11:11:38.000705Z",
     "shell.execute_reply": "2023-07-28T11:11:38.000085Z"
    },
    "id": "9-iOHJGN6SDu"
   },
   "outputs": [
    {
     "data": {
      "text/plain": [
       "['urls_unsup.txt',\n",
       " 'urls_pos.txt',\n",
       " 'pos',\n",
       " 'labeledBow.feat',\n",
       " 'unsupBow.feat',\n",
       " 'unsup',\n",
       " 'neg',\n",
       " 'urls_neg.txt']"
      ]
     },
     "execution_count": 5,
     "metadata": {},
     "output_type": "execute_result"
    }
   ],
   "source": [
    "train_dir = os.path.join(dataset_dir, \"train\")\n",
    "os.listdir(train_dir)"
   ]
  },
  {
   "cell_type": "markdown",
   "metadata": {
    "id": "9O59BdioK8jY"
   },
   "source": [
    "The `train` directory also contains additional folders which should be removed before creating the training set."
   ]
  },
  {
   "cell_type": "code",
   "execution_count": 6,
   "metadata": {
    "execution": {
     "iopub.execute_input": "2023-07-28T11:11:38.003668Z",
     "iopub.status.busy": "2023-07-28T11:11:38.003462Z",
     "iopub.status.idle": "2023-07-28T11:11:38.893349Z",
     "shell.execute_reply": "2023-07-28T11:11:38.892507Z"
    },
    "id": "1_Vfi9oWMSh-"
   },
   "outputs": [],
   "source": [
    "remove_dir = os.path.join(train_dir, \"unsup\")\n",
    "shutil.rmtree(remove_dir)"
   ]
  },
  {
   "cell_type": "markdown",
   "metadata": {
    "id": "oFoJjiEyJz9u"
   },
   "source": [
    "Next, create a `tf.data.Dataset` using `tf.keras.utils.text_dataset_from_directory`. You can read more about using this utility in this [text classification tutorial](https://www.tensorflow.org/tutorials/keras/text_classification). \n",
    "\n",
    "Use the `train` directory to create the training and validation sets with a split of 20% for validation."
   ]
  },
  {
   "cell_type": "code",
   "execution_count": 7,
   "metadata": {
    "execution": {
     "iopub.execute_input": "2023-07-28T11:11:38.897449Z",
     "iopub.status.busy": "2023-07-28T11:11:38.897177Z",
     "iopub.status.idle": "2023-07-28T11:11:44.937697Z",
     "shell.execute_reply": "2023-07-28T11:11:44.936962Z"
    },
    "id": "ItYD3TLkCOP1"
   },
   "outputs": [
    {
     "name": "stdout",
     "output_type": "stream",
     "text": [
      "Found 25000 files belonging to 2 classes.\n",
      "Using 20000 files for training.\n",
      "Found 25000 files belonging to 2 classes.\n",
      "Using 5000 files for validation.\n"
     ]
    }
   ],
   "source": [
    "batch_size = 1024\n",
    "seed = 123\n",
    "train_ds = tf.keras.utils.text_dataset_from_directory(\n",
    "    \"aclImdb/train\",\n",
    "    batch_size=batch_size,\n",
    "    validation_split=0.2,\n",
    "    subset=\"training\",\n",
    "    seed=seed,\n",
    ")\n",
    "val_ds = tf.keras.utils.text_dataset_from_directory(\n",
    "    \"aclImdb/train\",\n",
    "    batch_size=batch_size,\n",
    "    validation_split=0.2,\n",
    "    subset=\"validation\",\n",
    "    seed=seed,\n",
    ")"
   ]
  },
  {
   "cell_type": "markdown",
   "metadata": {
    "id": "FHV2pchDhzDn"
   },
   "source": [
    "### Configure the dataset for performance\n",
    "\n",
    "You can learn more about `Dataset.cache` and `Dataset.prefetch`, as well as how to cache data to disk in the [data performance guide](https://www.tensorflow.org/guide/data_performance)."
   ]
  },
  {
   "cell_type": "code",
   "execution_count": 8,
   "metadata": {
    "execution": {
     "iopub.execute_input": "2023-07-28T11:11:44.941054Z",
     "iopub.status.busy": "2023-07-28T11:11:44.940814Z",
     "iopub.status.idle": "2023-07-28T11:11:44.948783Z",
     "shell.execute_reply": "2023-07-28T11:11:44.948212Z"
    },
    "id": "Oz6k1IW7h1TO"
   },
   "outputs": [],
   "source": [
    "AUTOTUNE = tf.data.AUTOTUNE\n",
    "\n",
    "train_ds = train_ds.cache().prefetch(buffer_size=AUTOTUNE)\n",
    "val_ds = val_ds.cache().prefetch(buffer_size=AUTOTUNE)"
   ]
  },
  {
   "cell_type": "markdown",
   "metadata": {
    "id": "aGicgV5qT0wh"
   },
   "source": [
    "## Text preprocessing"
   ]
  },
  {
   "cell_type": "markdown",
   "metadata": {
    "id": "N6NZSqIIoU0Y"
   },
   "source": [
    "Next, define the dataset preprocessing steps required for your sentiment classification model. Initialize a `layers.TextVectorization` layer with the desired parameters to vectorize movie reviews. You can learn more about using this layer in the [Text Classification](https://www.tensorflow.org/tutorials/keras/text_classification) tutorial."
   ]
  },
  {
   "cell_type": "code",
   "execution_count": 9,
   "metadata": {
    "execution": {
     "iopub.execute_input": "2023-07-28T11:11:44.952689Z",
     "iopub.status.busy": "2023-07-28T11:11:44.952167Z",
     "iopub.status.idle": "2023-07-28T11:11:46.505698Z",
     "shell.execute_reply": "2023-07-28T11:11:46.504928Z"
    },
    "id": "2MlsXzo-ZlfK"
   },
   "outputs": [],
   "source": [
    "# Create a custom standardization function to strip HTML break tags '<br />'.\n",
    "def custom_standardization(input_data):\n",
    "    lowercase = tf.strings.lower(input_data)\n",
    "    stripped_html = tf.strings.regex_replace(lowercase, \"<br />\", \" \")\n",
    "    return tf.strings.regex_replace(\n",
    "        stripped_html, \"[%s]\" % re.escape(string.punctuation), \"\"\n",
    "    )\n",
    "\n",
    "\n",
    "# Vocabulary size and number of words in a sequence.\n",
    "vocab_size = 10000\n",
    "sequence_length = 100\n",
    "\n",
    "# Use the text vectorization layer to normalize, split, and map strings to\n",
    "# integers. Note that the layer uses the custom standardization defined above.\n",
    "# Set maximum_sequence length as all samples are not of the same length.\n",
    "vectorize_layer = TextVectorization(\n",
    "    standardize=custom_standardization,\n",
    "    max_tokens=vocab_size,\n",
    "    output_mode=\"int\",\n",
    "    output_sequence_length=sequence_length,\n",
    ")\n",
    "\n",
    "# Make a text-only dataset (no labels) and call `Dataset.adapt` to build the\n",
    "# vocabulary.\n",
    "text_ds = train_ds.map(lambda x, y: x)\n",
    "vectorize_layer.adapt(text_ds)"
   ]
  },
  {
   "cell_type": "markdown",
   "metadata": {
    "id": "zI9_wLIiWO8Z"
   },
   "source": [
    "## Create a classification model\n",
    "\n",
    "Use the [Keras Sequential API](https://www.tensorflow.org/guide/keras/sequential_model) to define the sentiment classification model. "
   ]
  },
  {
   "cell_type": "code",
   "execution_count": 10,
   "metadata": {
    "execution": {
     "iopub.execute_input": "2023-07-28T11:11:46.510027Z",
     "iopub.status.busy": "2023-07-28T11:11:46.509401Z",
     "iopub.status.idle": "2023-07-28T11:11:46.514754Z",
     "shell.execute_reply": "2023-07-28T11:11:46.514050Z"
    },
    "id": "pHLcFtn5Wsqj"
   },
   "outputs": [],
   "source": [
    "embedding_dim = 16\n",
    "text_embedding = Embedding(vocab_size, embedding_dim, name=\"embedding\")"
   ]
  },
  {
   "cell_type": "code",
   "execution_count": 11,
   "metadata": {
    "execution": {
     "iopub.execute_input": "2023-07-28T11:11:46.518066Z",
     "iopub.status.busy": "2023-07-28T11:11:46.517548Z",
     "iopub.status.idle": "2023-07-28T11:11:46.626700Z",
     "shell.execute_reply": "2023-07-28T11:11:46.626043Z"
    },
    "id": "iXAfZyEIRVY5"
   },
   "outputs": [],
   "source": [
    "text_input = tf.keras.Sequential(\n",
    "    [vectorize_layer, text_embedding], name=\"text_input\"\n",
    ")\n",
    "classifier_head = tf.keras.Sequential(\n",
    "    [GlobalAveragePooling1D(), Dense(16, activation=\"relu\"), Dense(1)],\n",
    "    name=\"classifier_head\",\n",
    ")\n",
    "\n",
    "model = tf.keras.Sequential([text_input, classifier_head])"
   ]
  },
  {
   "cell_type": "markdown",
   "metadata": {
    "id": "JjLNgKO7W2fe"
   },
   "source": [
    "## Compile and train the model"
   ]
  },
  {
   "cell_type": "markdown",
   "metadata": {
    "id": "jpX9etB6IOQd"
   },
   "source": [
    "You will use [TensorBoard](https://www.tensorflow.org/tensorboard) to visualize metrics including loss and accuracy. Create a `tf.keras.callbacks.TensorBoard`."
   ]
  },
  {
   "cell_type": "code",
   "execution_count": 12,
   "metadata": {
    "execution": {
     "iopub.execute_input": "2023-07-28T11:11:46.630512Z",
     "iopub.status.busy": "2023-07-28T11:11:46.630248Z",
     "iopub.status.idle": "2023-07-28T11:11:46.634321Z",
     "shell.execute_reply": "2023-07-28T11:11:46.633734Z"
    },
    "id": "W4Hg3IHFt4Px"
   },
   "outputs": [],
   "source": [
    "tensorboard_callback = tf.keras.callbacks.TensorBoard(log_dir=\"logs\")"
   ]
  },
  {
   "cell_type": "markdown",
   "metadata": {
    "id": "7OrKAKAKIbuH"
   },
   "source": [
    "Compile and train the model using the `Adam` optimizer and `BinaryCrossentropy` loss. "
   ]
  },
  {
   "cell_type": "code",
   "execution_count": 13,
   "metadata": {
    "execution": {
     "iopub.execute_input": "2023-07-28T11:11:46.637497Z",
     "iopub.status.busy": "2023-07-28T11:11:46.637237Z",
     "iopub.status.idle": "2023-07-28T11:11:46.650104Z",
     "shell.execute_reply": "2023-07-28T11:11:46.649502Z"
    },
    "id": "lCUgdP69Wzix"
   },
   "outputs": [],
   "source": [
    "model.compile(\n",
    "    optimizer=\"adam\",\n",
    "    loss=tf.keras.losses.BinaryCrossentropy(from_logits=True),\n",
    "    metrics=[\"accuracy\"],\n",
    ")"
   ]
  },
  {
   "cell_type": "code",
   "execution_count": 14,
   "metadata": {
    "execution": {
     "iopub.execute_input": "2023-07-28T11:11:46.653329Z",
     "iopub.status.busy": "2023-07-28T11:11:46.653057Z",
     "iopub.status.idle": "2023-07-28T11:12:07.710206Z",
     "shell.execute_reply": "2023-07-28T11:12:07.709416Z"
    },
    "id": "5mQehiQyv8rP"
   },
   "outputs": [
    {
     "name": "stdout",
     "output_type": "stream",
     "text": [
      "Epoch 1/15\n",
      "20/20 [==============================] - 6s 231ms/step - loss: 0.6920 - accuracy: 0.5028 - val_loss: 0.6897 - val_accuracy: 0.4886\n",
      "Epoch 2/15\n",
      "20/20 [==============================] - 1s 53ms/step - loss: 0.6869 - accuracy: 0.5028 - val_loss: 0.6830 - val_accuracy: 0.4886\n",
      "Epoch 3/15\n",
      "20/20 [==============================] - 1s 54ms/step - loss: 0.6780 - accuracy: 0.5028 - val_loss: 0.6720 - val_accuracy: 0.4886\n",
      "Epoch 4/15\n",
      "20/20 [==============================] - 1s 53ms/step - loss: 0.6641 - accuracy: 0.5028 - val_loss: 0.6559 - val_accuracy: 0.4886\n",
      "Epoch 5/15\n",
      "20/20 [==============================] - 1s 53ms/step - loss: 0.6443 - accuracy: 0.5040 - val_loss: 0.6347 - val_accuracy: 0.4974\n",
      "Epoch 6/15\n",
      "20/20 [==============================] - 1s 53ms/step - loss: 0.6188 - accuracy: 0.5463 - val_loss: 0.6091 - val_accuracy: 0.5628\n",
      "Epoch 7/15\n",
      "20/20 [==============================] - 1s 53ms/step - loss: 0.5886 - accuracy: 0.6197 - val_loss: 0.5806 - val_accuracy: 0.6296\n",
      "Epoch 8/15\n",
      "20/20 [==============================] - 1s 54ms/step - loss: 0.5557 - accuracy: 0.6882 - val_loss: 0.5514 - val_accuracy: 0.6732\n",
      "Epoch 9/15\n",
      "20/20 [==============================] - 1s 53ms/step - loss: 0.5220 - accuracy: 0.7350 - val_loss: 0.5233 - val_accuracy: 0.7094\n",
      "Epoch 10/15\n",
      "20/20 [==============================] - 1s 53ms/step - loss: 0.4897 - accuracy: 0.7651 - val_loss: 0.4979 - val_accuracy: 0.7378\n",
      "Epoch 11/15\n",
      "20/20 [==============================] - 1s 52ms/step - loss: 0.4599 - accuracy: 0.7874 - val_loss: 0.4757 - val_accuracy: 0.7540\n",
      "Epoch 12/15\n",
      "20/20 [==============================] - 1s 52ms/step - loss: 0.4331 - accuracy: 0.8061 - val_loss: 0.4568 - val_accuracy: 0.7636\n",
      "Epoch 13/15\n",
      "20/20 [==============================] - 1s 53ms/step - loss: 0.4094 - accuracy: 0.8197 - val_loss: 0.4411 - val_accuracy: 0.7740\n",
      "Epoch 14/15\n",
      "20/20 [==============================] - 1s 53ms/step - loss: 0.3884 - accuracy: 0.8309 - val_loss: 0.4279 - val_accuracy: 0.7840\n",
      "Epoch 15/15\n",
      "20/20 [==============================] - 1s 52ms/step - loss: 0.3696 - accuracy: 0.8407 - val_loss: 0.4170 - val_accuracy: 0.7936\n"
     ]
    },
    {
     "data": {
      "text/plain": [
       "<keras.src.callbacks.History at 0x7f8209e6de80>"
      ]
     },
     "execution_count": 14,
     "metadata": {},
     "output_type": "execute_result"
    }
   ],
   "source": [
    "model.fit(\n",
    "    train_ds,\n",
    "    validation_data=val_ds,\n",
    "    epochs=15,\n",
    "    callbacks=[tensorboard_callback],\n",
    ")"
   ]
  },
  {
   "cell_type": "markdown",
   "metadata": {
    "id": "1wYnVedSPfmX"
   },
   "source": [
    "With this approach the model reaches a validation accuracy of around 85% \n",
    "\n",
    "Note: Your results may be a bit different, depending on how weights were randomly initialized before training the embedding layer. \n",
    "\n",
    "You can look into the model summary to learn more about each layer of the model."
   ]
  },
  {
   "cell_type": "code",
   "execution_count": 15,
   "metadata": {
    "execution": {
     "iopub.execute_input": "2023-07-28T11:12:07.713724Z",
     "iopub.status.busy": "2023-07-28T11:12:07.713460Z",
     "iopub.status.idle": "2023-07-28T11:12:07.724784Z",
     "shell.execute_reply": "2023-07-28T11:12:07.724183Z"
    },
    "id": "mDCgjWyq_0dc"
   },
   "outputs": [
    {
     "name": "stdout",
     "output_type": "stream",
     "text": [
      "Model: \"sequential\"\n",
      "_________________________________________________________________\n",
      " Layer (type)                Output Shape              Param #   \n",
      "=================================================================\n",
      " text_input (Sequential)     (None, 100, 16)           160000    \n",
      "                                                                 \n",
      " classifier_head (Sequentia  (None, 1)                 289       \n",
      " l)                                                              \n",
      "                                                                 \n",
      "=================================================================\n",
      "Total params: 160289 (626.13 KB)\n",
      "Trainable params: 160289 (626.13 KB)\n",
      "Non-trainable params: 0 (0.00 Byte)\n",
      "_________________________________________________________________\n"
     ]
    }
   ],
   "source": [
    "model.summary()"
   ]
  },
  {
   "cell_type": "markdown",
   "metadata": {
    "id": "hiQbOJZ2WBFY"
   },
   "source": [
    "Visualize the model metrics in TensorBoard."
   ]
  },
  {
   "cell_type": "code",
   "execution_count": null,
   "metadata": {
    "id": "_Uanp2YH8RzU"
   },
   "outputs": [],
   "source": [
    "# docs_infra: no_execute\n",
    "%load_ext tensorboard\n",
    "%tensorboard --logdir logs"
   ]
  },
  {
   "cell_type": "markdown",
   "metadata": {
    "id": "NMtMv8yPEf5e"
   },
   "source": [
    "<!-- <img class=\"tfo-display-only-on-site\" src=\"https://tensorflow.org/text/tutorials/images/tensorboard-1.png\"/> -->"
   ]
  },
  {
   "cell_type": "markdown",
   "metadata": {
    "id": "IKp2PvLYI-r2"
   },
   "source": [
    "## Vocabulary remapping\n",
    "\n",
    "Now you're going to update the vocabulary and continue with warm-started training.\n",
    "\n",
    "First, get the base vocabulary and embedding matrix."
   ]
  },
  {
   "cell_type": "code",
   "execution_count": 16,
   "metadata": {
    "execution": {
     "iopub.execute_input": "2023-07-28T11:12:07.731199Z",
     "iopub.status.busy": "2023-07-28T11:12:07.730967Z",
     "iopub.status.idle": "2023-07-28T11:12:07.750138Z",
     "shell.execute_reply": "2023-07-28T11:12:07.749465Z"
    },
    "id": "HFgt2n6HJDAw"
   },
   "outputs": [],
   "source": [
    "embedding_weights_base = (\n",
    "    model.get_layer(\"text_input\").get_layer(\"embedding\").embeddings\n",
    ")\n",
    "vocab_base = vectorize_layer.get_vocabulary()"
   ]
  },
  {
   "cell_type": "markdown",
   "metadata": {
    "id": "A8wuaIVkJaNw"
   },
   "source": [
    "Define a new vectorization layer to generate a new bigger vocabulary"
   ]
  },
  {
   "cell_type": "code",
   "execution_count": 17,
   "metadata": {
    "execution": {
     "iopub.execute_input": "2023-07-28T11:12:07.753262Z",
     "iopub.status.busy": "2023-07-28T11:12:07.753016Z",
     "iopub.status.idle": "2023-07-28T11:12:09.037354Z",
     "shell.execute_reply": "2023-07-28T11:12:09.036626Z"
    },
    "id": "_-YcdW4XJlcX"
   },
   "outputs": [],
   "source": [
    "# Vocabulary size and number of words in a sequence.\n",
    "vocab_size_new = 10200\n",
    "sequence_length = 100\n",
    "\n",
    "vectorize_layer_new = TextVectorization(\n",
    "    standardize=custom_standardization,\n",
    "    max_tokens=vocab_size_new,\n",
    "    output_mode=\"int\",\n",
    "    output_sequence_length=sequence_length,\n",
    ")\n",
    "\n",
    "# Make a text-only dataset (no labels) and call adapt to build the vocabulary.\n",
    "text_ds = train_ds.map(lambda x, y: x)\n",
    "vectorize_layer_new.adapt(text_ds)\n",
    "\n",
    "# Get the new vocabulary\n",
    "vocab_new = vectorize_layer_new.get_vocabulary()"
   ]
  },
  {
   "cell_type": "code",
   "execution_count": 18,
   "metadata": {
    "execution": {
     "iopub.execute_input": "2023-07-28T11:12:09.041296Z",
     "iopub.status.busy": "2023-07-28T11:12:09.041052Z",
     "iopub.status.idle": "2023-07-28T11:12:09.052009Z",
     "shell.execute_reply": "2023-07-28T11:12:09.051441Z"
    },
    "id": "lny782PFNF3j"
   },
   "outputs": [
    {
     "data": {
      "text/plain": [
       "{'bullying',\n",
       " 'bumps',\n",
       " 'canvas',\n",
       " 'carole',\n",
       " 'chains',\n",
       " 'chairman',\n",
       " 'checks',\n",
       " 'coarse',\n",
       " 'competitive',\n",
       " 'component',\n",
       " 'compound',\n",
       " 'confirm',\n",
       " 'contemplate',\n",
       " 'coping',\n",
       " 'corporations',\n",
       " 'costuming',\n",
       " 'counterpart',\n",
       " 'crop',\n",
       " 'custody',\n",
       " 'cyborgs',\n",
       " 'daft',\n",
       " 'danced',\n",
       " 'daphne',\n",
       " 'darkest',\n",
       " 'davids',\n",
       " 'december',\n",
       " 'declared',\n",
       " 'defence',\n",
       " 'delve',\n",
       " 'demonstration',\n",
       " 'dense',\n",
       " 'denver',\n",
       " 'devilish',\n",
       " 'devious',\n",
       " 'dickinson',\n",
       " 'digs',\n",
       " 'directorwriter',\n",
       " 'download',\n",
       " 'effortless',\n",
       " 'electricity',\n",
       " 'elliot',\n",
       " 'enlightenment',\n",
       " 'erratic',\n",
       " 'exceedingly',\n",
       " 'eyeballs',\n",
       " 'fearless',\n",
       " 'fenton',\n",
       " 'fiennes',\n",
       " 'filter',\n",
       " 'fireworks',\n",
       " 'flipping',\n",
       " 'float',\n",
       " 'foggy',\n",
       " 'forgivable',\n",
       " 'framework',\n",
       " 'fulllength',\n",
       " 'funds',\n",
       " 'gamut',\n",
       " 'geeks',\n",
       " 'glee',\n",
       " 'goo',\n",
       " 'gripe',\n",
       " 'hardest',\n",
       " 'harmony',\n",
       " 'henchman',\n",
       " 'heritage',\n",
       " 'hg',\n",
       " 'hi',\n",
       " 'hightech',\n",
       " 'homework',\n",
       " 'houston',\n",
       " 'howards',\n",
       " 'hunger',\n",
       " 'imho',\n",
       " 'immigrants',\n",
       " 'improvised',\n",
       " 'impulse',\n",
       " 'inch',\n",
       " 'interpret',\n",
       " 'intimidating',\n",
       " 'iowa',\n",
       " 'jaffar',\n",
       " 'jeep',\n",
       " 'jock',\n",
       " 'kriemhild',\n",
       " 'kristofferson',\n",
       " 'lassie',\n",
       " 'laughoutloud',\n",
       " 'lennon',\n",
       " 'librarian',\n",
       " 'liza',\n",
       " 'locker',\n",
       " 'lommel',\n",
       " 'loren',\n",
       " 'lowered',\n",
       " 'marital',\n",
       " 'martins',\n",
       " 'mastroianni',\n",
       " 'megan',\n",
       " 'melt',\n",
       " 'mischievous',\n",
       " 'monstrosity',\n",
       " 'monumental',\n",
       " 'morse',\n",
       " 'mostel',\n",
       " 'muddy',\n",
       " 'noah',\n",
       " 'noirs',\n",
       " 'nostril',\n",
       " 'numbing',\n",
       " 'occupation',\n",
       " 'oceans',\n",
       " 'onesided',\n",
       " 'opus',\n",
       " 'organ',\n",
       " 'osullivan',\n",
       " 'otoole',\n",
       " 'overnight',\n",
       " 'parisian',\n",
       " 'partial',\n",
       " 'patriotism',\n",
       " 'pbs',\n",
       " 'penchant',\n",
       " 'penguin',\n",
       " 'plotted',\n",
       " 'powerfully',\n",
       " 'pows',\n",
       " 'practicing',\n",
       " 'prehistoric',\n",
       " 'prestigious',\n",
       " 'prevalent',\n",
       " 'prevents',\n",
       " 'profits',\n",
       " 'promotion',\n",
       " 'puke',\n",
       " 'pulse',\n",
       " 'punchline',\n",
       " 'quarters',\n",
       " 'rainer',\n",
       " 'ranting',\n",
       " 'rapists',\n",
       " 'rapture',\n",
       " 'rarity',\n",
       " 'rays',\n",
       " 'recommending',\n",
       " 'redeemed',\n",
       " 'refuge',\n",
       " 'refugee',\n",
       " 'relates',\n",
       " 'religions',\n",
       " 'remaking',\n",
       " 'renee',\n",
       " 'reply',\n",
       " 'restoration',\n",
       " 'resurrection',\n",
       " 'retreat',\n",
       " 'retro',\n",
       " 'rockets',\n",
       " 'romano',\n",
       " 'rooker',\n",
       " 'rooted',\n",
       " 'runtime',\n",
       " 'sap',\n",
       " 'scarred',\n",
       " 'secluded',\n",
       " 'selfabsorbed',\n",
       " 'separation',\n",
       " 'shattered',\n",
       " 'shenanigans',\n",
       " 'shootings',\n",
       " 'shue',\n",
       " 'silk',\n",
       " 'sm',\n",
       " 'soooo',\n",
       " 'spoton',\n",
       " 'sr',\n",
       " 'staple',\n",
       " 'stepfather',\n",
       " 'stoic',\n",
       " 'stud',\n",
       " 'suite',\n",
       " 'swanson',\n",
       " 'sweetness',\n",
       " 'sybil',\n",
       " 'tease',\n",
       " 'technological',\n",
       " 'tensions',\n",
       " 'theft',\n",
       " 'therapist',\n",
       " 'threats',\n",
       " 'tin',\n",
       " 'towel',\n",
       " 'transform',\n",
       " 'travelling',\n",
       " 'troupe',\n",
       " 'unremarkable',\n",
       " 'unsatisfied',\n",
       " 'untrue',\n",
       " 'vertigo',\n",
       " 'vic'}"
      ]
     },
     "execution_count": 18,
     "metadata": {},
     "output_type": "execute_result"
    }
   ],
   "source": [
    "# View the new vocabulary tokens that weren't in `vocab_base`\n",
    "set(vocab_base) ^ set(vocab_new)"
   ]
  },
  {
   "cell_type": "markdown",
   "metadata": {
    "id": "nHsDOlAnJrFH"
   },
   "source": [
    "Generate updated embeddings using the `keras.utils.warmstart_embedding_matrix` util."
   ]
  },
  {
   "cell_type": "code",
   "execution_count": 19,
   "metadata": {
    "execution": {
     "iopub.execute_input": "2023-07-28T11:12:09.055234Z",
     "iopub.status.busy": "2023-07-28T11:12:09.054997Z",
     "iopub.status.idle": "2023-07-28T11:12:09.075328Z",
     "shell.execute_reply": "2023-07-28T11:12:09.074758Z"
    },
    "id": "MgBlw3VnKrBL"
   },
   "outputs": [],
   "source": [
    "# Generate the updated embedding matrix\n",
    "updated_embedding = tf.keras.utils.warmstart_embedding_matrix(\n",
    "    base_vocabulary=vocab_base,\n",
    "    new_vocabulary=vocab_new,\n",
    "    base_embeddings=embedding_weights_base,\n",
    "    new_embeddings_initializer=\"uniform\",\n",
    ")\n",
    "# Update the model variable\n",
    "updated_embedding_variable = tf.Variable(updated_embedding)"
   ]
  },
  {
   "cell_type": "markdown",
   "metadata": {
    "id": "KEhm8fldKyR_"
   },
   "source": [
    "**OR**\n",
    "\n",
    "If you have an embedding matrix which you would like to initialize the new embedding matrix with, use `keras.initializers.Constant` as new_embeddings initializer. Copy the following block to a code cell to try this out.\n",
    "This would be helpful when you have a better embedding matrix initialization for new words in vocab.\n",
    "```\n",
    "# generate updated embedding matrix\n",
    "new_embedding = np.random.rand(len(vocab_new), 16)\n",
    "updated_embedding = tf.keras.utils.warmstart_embedding_matrix(\n",
    "            base_vocabulary=vocab_base,\n",
    "            new_vocabulary=vocab_new,\n",
    "            base_embeddings=embedding_weights_base,\n",
    "            new_embeddings_initializer=tf.keras.initializers.Constant(\n",
    "                new_embedding\n",
    "            )\n",
    "        )\n",
    "# update model variable\n",
    "updated_embedding_variable = tf.Variable(updated_embedding)\n",
    "```"
   ]
  },
  {
   "cell_type": "markdown",
   "metadata": {
    "id": "DbKLjXfhLUVa"
   },
   "source": [
    "Verify if the embedding matrix's shape has changed to reflect the new vocabulary."
   ]
  },
  {
   "cell_type": "code",
   "execution_count": 20,
   "metadata": {
    "execution": {
     "iopub.execute_input": "2023-07-28T11:12:09.078429Z",
     "iopub.status.busy": "2023-07-28T11:12:09.078181Z",
     "iopub.status.idle": "2023-07-28T11:12:09.082404Z",
     "shell.execute_reply": "2023-07-28T11:12:09.081770Z"
    },
    "id": "tYDrBBEtLWZQ"
   },
   "outputs": [
    {
     "data": {
      "text/plain": [
       "TensorShape([10200, 16])"
      ]
     },
     "execution_count": 20,
     "metadata": {},
     "output_type": "execute_result"
    }
   ],
   "source": [
    "updated_embedding_variable.shape"
   ]
  },
  {
   "cell_type": "markdown",
   "metadata": {
    "id": "iCd8LnSILZqk"
   },
   "source": [
    "Now that you have the updated embedding matrix, the next step is to update the layer weights."
   ]
  },
  {
   "cell_type": "code",
   "execution_count": 21,
   "metadata": {
    "execution": {
     "iopub.execute_input": "2023-07-28T11:12:09.085112Z",
     "iopub.status.busy": "2023-07-28T11:12:09.084893Z",
     "iopub.status.idle": "2023-07-28T11:12:09.127578Z",
     "shell.execute_reply": "2023-07-28T11:12:09.126955Z"
    },
    "id": "i-PdukkBLlx1"
   },
   "outputs": [
    {
     "name": "stdout",
     "output_type": "stream",
     "text": [
      "Model: \"text_input_new\"\n",
      "_________________________________________________________________\n",
      " Layer (type)                Output Shape              Param #   \n",
      "=================================================================\n",
      " text_vectorization_1 (Text  (None, 100)               0         \n",
      " Vectorization)                                                  \n",
      "                                                                 \n",
      " embedding (Embedding)       (None, 100, 16)           163200    \n",
      "                                                                 \n",
      "=================================================================\n",
      "Total params: 163200 (637.50 KB)\n",
      "Trainable params: 163200 (637.50 KB)\n",
      "Non-trainable params: 0 (0.00 Byte)\n",
      "_________________________________________________________________\n"
     ]
    },
    {
     "data": {
      "text/plain": [
       "TensorShape([10200, 16])"
      ]
     },
     "execution_count": 21,
     "metadata": {},
     "output_type": "execute_result"
    }
   ],
   "source": [
    "text_embedding_layer_new = Embedding(\n",
    "    vectorize_layer_new.vocabulary_size(), embedding_dim, name=\"embedding\"\n",
    ")\n",
    "text_embedding_layer_new.build(input_shape=[None])\n",
    "text_embedding_layer_new.embeddings.assign(updated_embedding)\n",
    "text_input_new = tf.keras.Sequential(\n",
    "    [vectorize_layer_new, text_embedding_layer_new], name=\"text_input_new\"\n",
    ")\n",
    "text_input_new.summary()\n",
    "\n",
    "# Verify the shape of updated weights\n",
    "# The new weights shape should reflect the new vocabulary size\n",
    "text_input_new.get_layer(\"embedding\").embeddings.shape"
   ]
  },
  {
   "cell_type": "markdown",
   "metadata": {
    "id": "juAdUZkVMpEj"
   },
   "source": [
    "Modify the model architecture to use the new text vectorization layer.\n",
    "\n",
    "You can also load the model from a checkpoint and update the model architecture as shown below."
   ]
  },
  {
   "cell_type": "code",
   "execution_count": 22,
   "metadata": {
    "execution": {
     "iopub.execute_input": "2023-07-28T11:12:09.133443Z",
     "iopub.status.busy": "2023-07-28T11:12:09.133221Z",
     "iopub.status.idle": "2023-07-28T11:12:09.177581Z",
     "shell.execute_reply": "2023-07-28T11:12:09.176965Z"
    },
    "id": "etCo20sPNn2C"
   },
   "outputs": [
    {
     "name": "stdout",
     "output_type": "stream",
     "text": [
      "Model: \"sequential_1\"\n",
      "_________________________________________________________________\n",
      " Layer (type)                Output Shape              Param #   \n",
      "=================================================================\n",
      " text_input_new (Sequential  (None, 100, 16)           163200    \n",
      " )                                                               \n",
      "                                                                 \n",
      " classifier_head (Sequentia  (None, 1)                 289       \n",
      " l)                                                              \n",
      "                                                                 \n",
      "=================================================================\n",
      "Total params: 163489 (638.63 KB)\n",
      "Trainable params: 163489 (638.63 KB)\n",
      "Non-trainable params: 0 (0.00 Byte)\n",
      "_________________________________________________________________\n"
     ]
    }
   ],
   "source": [
    "warm_started_model = tf.keras.Sequential([text_input_new, classifier_head])\n",
    "warm_started_model.summary()"
   ]
  },
  {
   "cell_type": "markdown",
   "metadata": {
    "id": "Hi4r5FubN202"
   },
   "source": [
    "You have successfully updated the model to accept a new vocabulary. The embedding layer is updated to map old vocabulary words to old embeddings and initialize embeddings for new vocabulary words to be learnt. The learned weights of the rest of the model will remain the same. The model is warm-started to continue to train from where it left off previously.\n",
    "\n",
    "You can now verify that the remapping worked. Get the index of the vocabulary word \"the\" that is present both in base and new vocabulary and compare the embedding values. They should be equal."
   ]
  },
  {
   "cell_type": "code",
   "execution_count": 23,
   "metadata": {
    "execution": {
     "iopub.execute_input": "2023-07-28T11:12:09.184088Z",
     "iopub.status.busy": "2023-07-28T11:12:09.183869Z",
     "iopub.status.idle": "2023-07-28T11:12:09.247802Z",
     "shell.execute_reply": "2023-07-28T11:12:09.247176Z"
    },
    "id": "vCdlWvpPPEow"
   },
   "outputs": [
    {
     "name": "stdout",
     "output_type": "stream",
     "text": [
      "tf.Tensor(\n",
      "[ True  True  True  True  True  True  True  True  True  True  True  True\n",
      "  True  True  True  True], shape=(16,), dtype=bool)\n"
     ]
    }
   ],
   "source": [
    "# New vocab words\n",
    "base_vocab_index = vectorize_layer(\"the\")[0]\n",
    "new_vocab_index = vectorize_layer_new(\"the\")[0]\n",
    "print(\n",
    "    warm_started_model.get_layer(\"text_input_new\").get_layer(\"embedding\")(\n",
    "        new_vocab_index\n",
    "    )\n",
    "    == embedding_weights_base[base_vocab_index]\n",
    ")"
   ]
  },
  {
   "cell_type": "markdown",
   "metadata": {
    "id": "g1xX0XCEReRC"
   },
   "source": [
    "## Continue with warm-started training\n",
    "\n",
    "Notice how the training is warm-started. The accuracy of first epoch is around 85%. This is close to the accuracy where the previous training ended."
   ]
  },
  {
   "cell_type": "code",
   "execution_count": 24,
   "metadata": {
    "execution": {
     "iopub.execute_input": "2023-07-28T11:12:09.250875Z",
     "iopub.status.busy": "2023-07-28T11:12:09.250644Z",
     "iopub.status.idle": "2023-07-28T11:12:28.570080Z",
     "shell.execute_reply": "2023-07-28T11:12:28.569352Z"
    },
    "id": "OtbXMQsTRdvq"
   },
   "outputs": [
    {
     "name": "stdout",
     "output_type": "stream",
     "text": [
      "Epoch 1/15\n",
      "20/20 [==============================] - 4s 176ms/step - loss: 0.3547 - accuracy: 0.8473 - val_loss: 0.4086 - val_accuracy: 0.7988\n",
      "Epoch 2/15\n",
      "20/20 [==============================] - 1s 53ms/step - loss: 0.3405 - accuracy: 0.8536 - val_loss: 0.4017 - val_accuracy: 0.8020\n",
      "Epoch 3/15\n",
      "20/20 [==============================] - 1s 53ms/step - loss: 0.3281 - accuracy: 0.8592 - val_loss: 0.3957 - val_accuracy: 0.8042\n",
      "Epoch 4/15\n",
      "20/20 [==============================] - 1s 53ms/step - loss: 0.3167 - accuracy: 0.8643 - val_loss: 0.3907 - val_accuracy: 0.8072\n",
      "Epoch 5/15\n",
      "20/20 [==============================] - 1s 53ms/step - loss: 0.3060 - accuracy: 0.8698 - val_loss: 0.3867 - val_accuracy: 0.8106\n",
      "Epoch 6/15\n",
      "20/20 [==============================] - 1s 53ms/step - loss: 0.2961 - accuracy: 0.8743 - val_loss: 0.3835 - val_accuracy: 0.8132\n",
      "Epoch 7/15\n",
      "20/20 [==============================] - 1s 53ms/step - loss: 0.2868 - accuracy: 0.8796 - val_loss: 0.3809 - val_accuracy: 0.8164\n",
      "Epoch 8/15\n",
      "20/20 [==============================] - 1s 53ms/step - loss: 0.2780 - accuracy: 0.8835 - val_loss: 0.3790 - val_accuracy: 0.8186\n",
      "Epoch 9/15\n",
      "20/20 [==============================] - 1s 54ms/step - loss: 0.2697 - accuracy: 0.8870 - val_loss: 0.3777 - val_accuracy: 0.8210\n",
      "Epoch 10/15\n",
      "20/20 [==============================] - 1s 53ms/step - loss: 0.2618 - accuracy: 0.8913 - val_loss: 0.3770 - val_accuracy: 0.8218\n",
      "Epoch 11/15\n",
      "20/20 [==============================] - 1s 53ms/step - loss: 0.2544 - accuracy: 0.8946 - val_loss: 0.3768 - val_accuracy: 0.8218\n",
      "Epoch 12/15\n",
      "20/20 [==============================] - 1s 53ms/step - loss: 0.2472 - accuracy: 0.8976 - val_loss: 0.3770 - val_accuracy: 0.8230\n",
      "Epoch 13/15\n",
      "20/20 [==============================] - 1s 53ms/step - loss: 0.2404 - accuracy: 0.9011 - val_loss: 0.3777 - val_accuracy: 0.8226\n",
      "Epoch 14/15\n",
      "20/20 [==============================] - 1s 53ms/step - loss: 0.2339 - accuracy: 0.9044 - val_loss: 0.3788 - val_accuracy: 0.8236\n",
      "Epoch 15/15\n",
      "20/20 [==============================] - 1s 53ms/step - loss: 0.2276 - accuracy: 0.9082 - val_loss: 0.3803 - val_accuracy: 0.8230\n"
     ]
    },
    {
     "data": {
      "text/plain": [
       "<keras.src.callbacks.History at 0x7f8209ee5310>"
      ]
     },
     "execution_count": 24,
     "metadata": {},
     "output_type": "execute_result"
    }
   ],
   "source": [
    "model.compile(\n",
    "    optimizer=\"adam\",\n",
    "    loss=tf.keras.losses.BinaryCrossentropy(from_logits=True),\n",
    "    metrics=[\"accuracy\"],\n",
    ")\n",
    "model.fit(\n",
    "    train_ds,\n",
    "    validation_data=val_ds,\n",
    "    epochs=15,\n",
    "    callbacks=[tensorboard_callback],\n",
    ")"
   ]
  },
  {
   "cell_type": "markdown",
   "metadata": {
    "id": "5z67BhOZR6do"
   },
   "source": [
    "## Visualize warm-started training"
   ]
  },
  {
   "cell_type": "code",
   "execution_count": null,
   "metadata": {
    "id": "eXPXUfw3QTY-"
   },
   "outputs": [],
   "source": [
    "# docs_infra: no_execute\n",
    "%reload_ext tensorboard\n",
    "%tensorboard --logdir logs"
   ]
  },
  {
   "cell_type": "markdown",
   "metadata": {
    "id": "a-9MOqehCQa8"
   },
   "source": [
    "<!-- <img class=\"tfo-display-only-on-site\" src=\"https://tensorflow.org/text/tutorials/images/tensorboard-2.png\"/> -->"
   ]
  },
  {
   "cell_type": "markdown",
   "metadata": {
    "id": "-SrmuEgJQIIP"
   },
   "source": [
    "## Next steps\n",
    "\n",
    "In this tutorial you learned how to:\n",
    "\n",
    "* Train a sentiment classification model from scratch on a small vocabulary dataset.\n",
    "* Update the model architecture and warm start the embedding matrix when the vocabulary size changes.\n",
    "* Continuously improve model accuracy with expanding datasets\n",
    "\n",
    "To learn more about embeddings check out the [Word2Vec](https://www.tensorflow.org/tutorials/text/word2vec) and [Transformer model for language understanding](https://www.tensorflow.org/text/tutorials/transformer) tutorials."
   ]
  }
 ],
 "metadata": {
  "accelerator": "GPU",
  "colab": {
   "collapsed_sections": [],
   "name": "warmstart_embedding_matrix.ipynb",
   "toc_visible": true
  },
  "kernelspec": {
   "display_name": "Python 3 (ipykernel)",
   "language": "python",
   "name": "python3"
  },
  "language_info": {
   "codemirror_mode": {
    "name": "ipython",
    "version": 3
   },
   "file_extension": ".py",
   "mimetype": "text/x-python",
   "name": "python",
   "nbconvert_exporter": "python",
   "pygments_lexer": "ipython3",
   "version": "3.10.9"
  }
 },
 "nbformat": 4,
 "nbformat_minor": 1
}
